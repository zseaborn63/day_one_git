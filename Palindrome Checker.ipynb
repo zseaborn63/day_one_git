{
 "cells": [
  {
   "cell_type": "code",
   "execution_count": 17,
   "metadata": {
    "collapsed": false
   },
   "outputs": [
    {
     "name": "stdout",
     "output_type": "stream",
     "text": [
      "What word would you like to check?race car\n",
      "No, this word is not a palindrome\n"
     ]
    }
   ],
   "source": [
    "word = input(\"What word would you like to check?\").lower().strip()\n",
    "\n",
    "if word == word[::-1]:\n",
    "    print(\"Yes, this word is a palindrome\")\n",
    "else:\n",
    "    print(\"No, this word is not a palindrome\")\n",
    "    "
   ]
  },
  {
   "cell_type": "code",
   "execution_count": 33,
   "metadata": {
    "collapsed": false
   },
   "outputs": [
    {
     "name": "stdout",
     "output_type": "stream",
     "text": [
      "race, car\n"
     ]
    }
   ],
   "source": [
    "x = \"race, car\"\n",
    "y = x.strip(\",\")\n",
    "print(y)"
   ]
  },
  {
   "cell_type": "code",
   "execution_count": null,
   "metadata": {
    "collapsed": true
   },
   "outputs": [],
   "source": []
  }
 ],
 "metadata": {
  "kernelspec": {
   "display_name": "Python 3",
   "language": "python",
   "name": "python3"
  },
  "language_info": {
   "codemirror_mode": {
    "name": "ipython",
    "version": 3
   },
   "file_extension": ".py",
   "mimetype": "text/x-python",
   "name": "python",
   "nbconvert_exporter": "python",
   "pygments_lexer": "ipython3",
   "version": "3.5.0"
  }
 },
 "nbformat": 4,
 "nbformat_minor": 0
}
